{
  "nbformat": 4,
  "nbformat_minor": 0,
  "metadata": {
    "colab": {
      "provenance": [],
      "authorship_tag": "ABX9TyNJe2PqBTBvSi52g+49YJ80",
      "include_colab_link": true
    },
    "kernelspec": {
      "name": "python3",
      "display_name": "Python 3"
    },
    "language_info": {
      "name": "python"
    }
  },
  "cells": [
    {
      "cell_type": "markdown",
      "metadata": {
        "id": "view-in-github",
        "colab_type": "text"
      },
      "source": [
        "<a href=\"https://colab.research.google.com/github/F-Emm/Hamoye-Phase-C/blob/main/Data_scrapping%20Project.ipynb\" target=\"_parent\"><img src=\"https://colab.research.google.com/assets/colab-badge.svg\" alt=\"Open In Colab\"/></a>"
      ]
    },
    {
      "cell_type": "code",
      "execution_count": 1,
      "metadata": {
        "id": "1IRt6Ii5IOGk",
        "colab": {
          "base_uri": "https://localhost:8080/"
        },
        "outputId": "b1d77f75-e7a0-474c-fbe5-711072d83a37"
      },
      "outputs": [
        {
          "output_type": "stream",
          "name": "stdout",
          "text": [
            "Looking in indexes: https://pypi.org/simple, https://us-python.pkg.dev/colab-wheels/public/simple/\n",
            "Requirement already satisfied: beautifulsoup4 in /usr/local/lib/python3.7/dist-packages (4.6.3)\n"
          ]
        }
      ],
      "source": [
        "!pip install beautifulsoup4"
      ]
    },
    {
      "cell_type": "code",
      "source": [
        "!pip install requests"
      ],
      "metadata": {
        "id": "cEZc350mPLsa",
        "colab": {
          "base_uri": "https://localhost:8080/"
        },
        "outputId": "ea275e89-1eb2-4c33-e87e-12a78ae931e9"
      },
      "execution_count": 2,
      "outputs": [
        {
          "output_type": "stream",
          "name": "stdout",
          "text": [
            "Looking in indexes: https://pypi.org/simple, https://us-python.pkg.dev/colab-wheels/public/simple/\n",
            "Requirement already satisfied: requests in /usr/local/lib/python3.7/dist-packages (2.23.0)\n",
            "Requirement already satisfied: urllib3!=1.25.0,!=1.25.1,<1.26,>=1.21.1 in /usr/local/lib/python3.7/dist-packages (from requests) (1.24.3)\n",
            "Requirement already satisfied: idna<3,>=2.5 in /usr/local/lib/python3.7/dist-packages (from requests) (2.10)\n",
            "Requirement already satisfied: chardet<4,>=3.0.2 in /usr/local/lib/python3.7/dist-packages (from requests) (3.0.4)\n",
            "Requirement already satisfied: certifi>=2017.4.17 in /usr/local/lib/python3.7/dist-packages (from requests) (2022.6.15)\n"
          ]
        }
      ]
    },
    {
      "cell_type": "code",
      "source": [
        "import sys\n",
        "import time\n",
        "from bs4 import BeautifulSoup\n",
        "import requests\n",
        "import pandas as pd"
      ],
      "metadata": {
        "id": "uIIicV68P11S"
      },
      "execution_count": 3,
      "outputs": []
    },
    {
      "cell_type": "code",
      "source": [
        "# soup"
      ],
      "metadata": {
        "id": "C5FuX3qAYMoJ"
      },
      "execution_count": null,
      "outputs": []
    },
    {
      "cell_type": "markdown",
      "source": [
        "***The extraction of the summary text on each headline on this page***"
      ],
      "metadata": {
        "id": "XcKiSseoaepE"
      }
    },
    {
      "cell_type": "markdown",
      "source": [
        "**First text scrapping done**"
      ],
      "metadata": {
        "id": "5rQ1ntsRbS_8"
      }
    },
    {
      "cell_type": "code",
      "source": [
        "#already done this first\n",
        "# from bs4 import BeautifulSoup\n",
        "# import requests"
      ],
      "metadata": {
        "id": "D0TGEAkvcnLo"
      },
      "execution_count": null,
      "outputs": []
    },
    {
      "cell_type": "code",
      "source": [
        "url = 'https://www.worldometers.info/gdp/gdp-by-country/'\n",
        "load_web_page = requests.get(url)\n",
        "soup_page_parser = BeautifulSoup(load_web_page.content, 'html.parser')\n",
        "target_table = soup_page_parser.find(\"table\",{\"id\":\"example2\"})\n",
        "data_frame = pd.read_html(str(target_table))[0]\n"
      ],
      "metadata": {
        "id": "PH9DjS2ceJ6N"
      },
      "execution_count": 4,
      "outputs": []
    },
    {
      "cell_type": "code",
      "source": [
        "load_web_page"
      ],
      "metadata": {
        "colab": {
          "base_uri": "https://localhost:8080/"
        },
        "id": "ZwuQ1gkWXOc6",
        "outputId": "f69dc92e-35c5-426d-8c3b-8375b3f1e436"
      },
      "execution_count": 5,
      "outputs": [
        {
          "output_type": "execute_result",
          "data": {
            "text/plain": [
              "<Response [200]>"
            ]
          },
          "metadata": {},
          "execution_count": 5
        }
      ]
    },
    {
      "cell_type": "code",
      "source": [
        "print(data_frame.tail(5))"
      ],
      "metadata": {
        "colab": {
          "base_uri": "https://localhost:8080/"
        },
        "id": "k9yzKUzMgdNT",
        "outputId": "eec94401-6f5c-41db-9e13-c595950efb79"
      },
      "execution_count": 6,
      "outputs": [
        {
          "output_type": "stream",
          "name": "stdout",
          "text": [
            "       #           Country GDP (nominal, 2017) GDP (abbrev.) GDP growth  \\\n",
            "185  186        Micronesia        $336,427,500  $336 million      3.20%   \n",
            "186  187             Palau        $289,823,500  $290 million     -3.57%   \n",
            "187  188  Marshall Islands        $204,173,430  $204 million      3.60%   \n",
            "188  189          Kiribati        $185,572,502  $186 million      0.33%   \n",
            "189  190            Tuvalu         $39,731,317   $40 million      3.24%   \n",
            "\n",
            "     Population (2017) GDP per capita Share of World GDP  \n",
            "185             532899           $631              0.00%  \n",
            "186              17808        $16,275              0.00%  \n",
            "187              58058         $3,517              0.00%  \n",
            "188             114158         $1,626              0.00%  \n",
            "189              11370         $3,494              0.00%  \n"
          ]
        }
      ]
    },
    {
      "cell_type": "code",
      "source": [
        "data_frame.to_csv(\"table_res.csv\", index = False)"
      ],
      "metadata": {
        "id": "nOUBd5_6laX6"
      },
      "execution_count": 7,
      "outputs": []
    },
    {
      "cell_type": "code",
      "source": [
        "data_frame.to_excel(\"web_table_results.xlsx\", index = False)"
      ],
      "metadata": {
        "id": "8g2l_hhdhmYy"
      },
      "execution_count": 11,
      "outputs": []
    }
  ]
}